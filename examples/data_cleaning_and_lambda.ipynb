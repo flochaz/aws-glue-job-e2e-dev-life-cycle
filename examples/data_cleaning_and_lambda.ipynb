{
 "cells": [
  {
   "cell_type": "code",
   "execution_count": null,
   "id": "f192a54b",
   "metadata": {},
   "outputs": [],
   "source": []
  },
  {
   "cell_type": "code",
   "execution_count": 0,
   "id": "1fd6074d",
   "metadata": {},
   "outputs": [
    {
     "name": "stdout",
     "output_type": "stream",
     "text": [
      "Welcome to the Glue Interactive Sessions Kernel\n",
      "For more information on available magic commands, please type %help in any new cell.\n",
      "\n",
      "Please view our Getting Started page to access the most up-to-date information on the Interactive Sessions kernel: https://docs.aws.amazon.com/glue/latest/dg/interactive-sessions.html\n",
      "Authenticating with profile=default\n",
      "glue_role_arn defined by user: arn:aws:iam::599471228997:role/Deploy-GlueJob-cdkGlueRole9180D9F4-IXF8M060FV55\n",
      "Attempting to use existing AssumeRole session credentials.\n",
      "Trying to create a Glue session for the kernel.\n",
      "Worker Type: G.1X\n",
      "Number of Workers: 5\n",
      "Session ID: 56f3351f-9980-4f9c-b2f5-f30814f51d3c\n",
      "Applying the following default arguments:\n",
      "--glue_kernel_version 0.30\n",
      "--enable-glue-datacatalog true\n",
      "Waiting for session 56f3351f-9980-4f9c-b2f5-f30814f51d3c to get into ready status...\n",
      "Session 56f3351f-9980-4f9c-b2f5-f30814f51d3c has been created\n",
      "\n",
      "\n"
     ]
    }
   ],
   "source": [
    "#  Copyright 2016-2020 Amazon.com, Inc. or its affiliates. All Rights Reserved.\n",
    "#  SPDX-License-Identifier: MIT-0\n",
    "\n",
    "import sys\n",
    "from awsglue.utils import getResolvedOptions\n",
    "from pyspark.context import SparkContext\n",
    "from awsglue.context import GlueContext\n",
    "from awsglue.dynamicframe import DynamicFrame\n",
    "from awsglue.job import Job\n",
    "from pyspark.sql.functions import udf\n",
    "from pyspark.sql.types import StringType\n",
    "\n",
    "glueContext = GlueContext(SparkContext.getOrCreate())\n",
    "\n"
   ]
  },
  {
   "cell_type": "code",
   "execution_count": 1,
   "id": "71a055c8",
   "metadata": {},
   "outputs": [
    {
     "name": "stdout",
     "output_type": "stream",
     "text": [
      "\n"
     ]
    }
   ],
   "source": [
    "\n",
    "# Data Catalog: database and table name\n",
    "db_name = \"payments\"\n",
    "tbl_name = \"medicare\"\n",
    "\n",
    "# args = getResolvedOptions(sys.argv, ['output_bucket'])\n",
    "\n",
    "try:\n",
    "    args = getResolvedOptions(sys.argv, ['output_bucket'])\n",
    "    output_dir = args['output_bucket']\n",
    "except:\n",
    "    # S3 location for output\n",
    "    output_dir = 's3://deploy-gluejob-outputbucketf8672071-gg1mjydm1p1m/'\n",
    "\n",
    "# Read data into a DynamicFrame using the Data Catalog metadata\n",
    "medicare_dyf = glueContext.create_dynamic_frame.from_catalog(database = db_name, table_name = tbl_name)\n",
    "\n",
    "# The `provider id` field will be choice between long and string\n",
    "\n",
    "# Cast choices into integers, those values that cannot cast result in null\n",
    "medicare_res = medicare_dyf.resolveChoice(specs = [('provider id','cast:long')])\n",
    "\n",
    "# Remove erroneous records\n",
    "medicare_df = medicare_res.toDF()\n",
    "medicare_df = medicare_df.where(\"`provider id` is NOT NULL\")\n",
    "\n",
    "# Apply a lambda to remove the '$'\n",
    "chop_f = udf(lambda x: x[1:], StringType())\n",
    "medicare_df = medicare_df.withColumn(\"ACC\", chop_f(medicare_df[\"average covered charges\"])).withColumn(\"ATP\", chop_f(medicare_df[\"average total payments\"])).withColumn(\"AMP\", chop_f(medicare_df[\"average medicare payments\"]))\n",
    "\n",
    "# Turn it back to a dynamic frame\n",
    "medicare_tmp = DynamicFrame.fromDF(medicare_df, glueContext, \"nested\")\n",
    "\n",
    "# Rename, cast, and nest with apply_mapping\n",
    "medicare_nest = medicare_tmp.apply_mapping([('drg definition', 'string', 'drg', 'string'), \n",
    "                             ('provider id', 'long', 'provider.id', 'long'),\n",
    "                             ('provider name', 'string', 'provider.name', 'string'),\n",
    "                             ('provider city', 'string', 'provider.city', 'string'),\n",
    "                             ('provider state', 'string', 'provider.state', 'string'),\n",
    "                             ('provider zip code', 'long', 'provider.zip', 'long'),\n",
    "                             ('hospital referral region description', 'string','rr', 'string'),\n",
    "                             ('ACC', 'string', 'charges.covered', 'double'),\n",
    "                             ('ATP', 'string', 'charges.total_pay', 'double'),\n",
    "                             ('AMP', 'string', 'charges.medicare_pay', 'double')])\n"
   ]
  },
  {
   "cell_type": "code",
   "execution_count": 2,
   "id": "6a5b240a",
   "metadata": {},
   "outputs": [
    {
     "name": "stdout",
     "output_type": "stream",
     "text": [
      "{\"drg\": \"039 - EXTRACRANIAL PROCEDURES W/O CC/MCC\", \"provider\": {\"id\": 10001, \"name\": \"SOUTHEAST ALABAMA MEDICAL CENTER\", \"city\": \"DOTHAN\", \"state\": \"AL\", \"zip\": 36301}, \"rr\": \"AL - Dothan\", \"charges\": {\"covered\": 32963.07, \"total_pay\": 5777.24, \"medicare_pay\": 4763.73}}\n",
      "{\"drg\": \"039 - EXTRACRANIAL PROCEDURES W/O CC/MCC\", \"provider\": {\"id\": 10005, \"name\": \"MARSHALL MEDICAL CENTER SOUTH\", \"city\": \"BOAZ\", \"state\": \"AL\", \"zip\": 35957}, \"rr\": \"AL - Birmingham\", \"charges\": {\"covered\": 15131.85, \"total_pay\": 5787.57, \"medicare_pay\": 4976.71}}\n",
      "{\"drg\": \"039 - EXTRACRANIAL PROCEDURES W/O CC/MCC\", \"provider\": {\"id\": 10006, \"name\": \"ELIZA COFFEE MEMORIAL HOSPITAL\", \"city\": \"FLORENCE\", \"state\": \"AL\", \"zip\": 35631}, \"rr\": \"AL - Birmingham\", \"charges\": {\"covered\": 37560.37, \"total_pay\": 5434.95, \"medicare_pay\": 4453.79}}\n",
      "{\"drg\": \"039 - EXTRACRANIAL PROCEDURES W/O CC/MCC\", \"provider\": {\"id\": 10011, \"name\": \"ST VINCENT'S EAST\", \"city\": \"BIRMINGHAM\", \"state\": \"AL\", \"zip\": 35235}, \"rr\": \"AL - Birmingham\", \"charges\": {\"covered\": 13998.28, \"total_pay\": 5417.56, \"medicare_pay\": 4129.16}}\n",
      "{\"drg\": \"039 - EXTRACRANIAL PROCEDURES W/O CC/MCC\", \"provider\": {\"id\": 10016, \"name\": \"SHELBY BAPTIST MEDICAL CENTER\", \"city\": \"ALABASTER\", \"state\": \"AL\", \"zip\": 35007}, \"rr\": \"AL - Birmingham\", \"charges\": {\"covered\": 31633.27, \"total_pay\": 5658.33, \"medicare_pay\": 4851.44}}\n",
      "{\"drg\": \"039 - EXTRACRANIAL PROCEDURES W/O CC/MCC\", \"provider\": {\"id\": 10023, \"name\": \"BAPTIST MEDICAL CENTER SOUTH\", \"city\": \"MONTGOMERY\", \"state\": \"AL\", \"zip\": 36116}, \"rr\": \"AL - Montgomery\", \"charges\": {\"covered\": 16920.79, \"total_pay\": 6653.8, \"medicare_pay\": 5374.14}}\n",
      "{\"drg\": \"039 - EXTRACRANIAL PROCEDURES W/O CC/MCC\", \"provider\": {\"id\": 10029, \"name\": \"EAST ALABAMA MEDICAL CENTER AND SNF\", \"city\": \"OPELIKA\", \"state\": \"AL\", \"zip\": 36801}, \"rr\": \"AL - Birmingham\", \"charges\": {\"covered\": 11977.13, \"total_pay\": 5834.74, \"medicare_pay\": 4761.41}}\n",
      "{\"drg\": \"039 - EXTRACRANIAL PROCEDURES W/O CC/MCC\", \"provider\": {\"id\": 10033, \"name\": \"UNIVERSITY OF ALABAMA HOSPITAL\", \"city\": \"BIRMINGHAM\", \"state\": \"AL\", \"zip\": 35233}, \"rr\": \"AL - Birmingham\", \"charges\": {\"covered\": 35841.09, \"total_pay\": 8031.12, \"medicare_pay\": 5858.5}}\n",
      "{\"drg\": \"039 - EXTRACRANIAL PROCEDURES W/O CC/MCC\", \"provider\": {\"id\": 10039, \"name\": \"HUNTSVILLE HOSPITAL\", \"city\": \"HUNTSVILLE\", \"state\": \"AL\", \"zip\": 35801}, \"rr\": \"AL - Huntsville\", \"charges\": {\"covered\": 28523.39, \"total_pay\": 6113.38, \"medicare_pay\": 5228.4}}\n",
      "{\"drg\": \"039 - EXTRACRANIAL PROCEDURES W/O CC/MCC\", \"provider\": {\"id\": 10040, \"name\": \"GADSDEN REGIONAL MEDICAL CENTER\", \"city\": \"GADSDEN\", \"state\": \"AL\", \"zip\": 35903}, \"rr\": \"AL - Birmingham\", \"charges\": {\"covered\": 75233.38, \"total_pay\": 5541.05, \"medicare_pay\": 4386.94}}\n",
      "{\"drg\": \"039 - EXTRACRANIAL PROCEDURES W/O CC/MCC\", \"provider\": {\"id\": 10046, \"name\": \"RIVERVIEW REGIONAL MEDICAL CENTER\", \"city\": \"GADSDEN\", \"state\": \"AL\", \"zip\": 35901}, \"rr\": \"AL - Birmingham\", \"charges\": {\"covered\": 67327.92, \"total_pay\": 5461.57, \"medicare_pay\": 4493.57}}\n",
      "{\"drg\": \"039 - EXTRACRANIAL PROCEDURES W/O CC/MCC\", \"provider\": {\"id\": 10055, \"name\": \"FLOWERS HOSPITAL\", \"city\": \"DOTHAN\", \"state\": \"AL\", \"zip\": 36305}, \"rr\": \"AL - Dothan\", \"charges\": {\"covered\": 39607.28, \"total_pay\": 5356.28, \"medicare_pay\": 4408.2}}\n",
      "{\"drg\": \"039 - EXTRACRANIAL PROCEDURES W/O CC/MCC\", \"provider\": {\"id\": 10056, \"name\": \"ST VINCENT'S BIRMINGHAM\", \"city\": \"BIRMINGHAM\", \"state\": \"AL\", \"zip\": 35205}, \"rr\": \"AL - Birmingham\", \"charges\": {\"covered\": 22862.23, \"total_pay\": 5374.65, \"medicare_pay\": 4186.02}}\n",
      "{\"drg\": \"039 - EXTRACRANIAL PROCEDURES W/O CC/MCC\", \"provider\": {\"id\": 10078, \"name\": \"NORTHEAST ALABAMA REGIONAL MED CENTER\", \"city\": \"ANNISTON\", \"state\": \"AL\", \"zip\": 36207}, \"rr\": \"AL - Birmingham\", \"charges\": {\"covered\": 31110.85, \"total_pay\": 5366.23, \"medicare_pay\": 4376.23}}\n",
      "{\"drg\": \"039 - EXTRACRANIAL PROCEDURES W/O CC/MCC\", \"provider\": {\"id\": 10083, \"name\": \"SOUTH BALDWIN REGIONAL MEDICAL CENTER\", \"city\": \"FOLEY\", \"state\": \"AL\", \"zip\": 36535}, \"rr\": \"AL - Mobile\", \"charges\": {\"covered\": 25411.33, \"total_pay\": 5282.93, \"medicare_pay\": 4383.73}}\n",
      "{\"drg\": \"039 - EXTRACRANIAL PROCEDURES W/O CC/MCC\", \"provider\": {\"id\": 10085, \"name\": \"DECATUR GENERAL HOSPITAL\", \"city\": \"DECATUR\", \"state\": \"AL\", \"zip\": 35609}, \"rr\": \"AL - Huntsville\", \"charges\": {\"covered\": 9234.51, \"total_pay\": 5676.55, \"medicare_pay\": 4509.11}}\n",
      "{\"drg\": \"039 - EXTRACRANIAL PROCEDURES W/O CC/MCC\", \"provider\": {\"id\": 10090, \"name\": \"PROVIDENCE HOSPITAL\", \"city\": \"MOBILE\", \"state\": \"AL\", \"zip\": 36608}, \"rr\": \"AL - Mobile\", \"charges\": {\"covered\": 15895.85, \"total_pay\": 5930.11, \"medicare_pay\": 3972.85}}\n",
      "{\"drg\": \"039 - EXTRACRANIAL PROCEDURES W/O CC/MCC\", \"provider\": {\"id\": 10092, \"name\": \"D C H REGIONAL MEDICAL CENTER\", \"city\": \"TUSCALOOSA\", \"state\": \"AL\", \"zip\": 35401}, \"rr\": \"AL - Tuscaloosa\", \"charges\": {\"covered\": 19721.16, \"total_pay\": 6192.54, \"medicare_pay\": 5179.38}}\n",
      "{\"drg\": \"039 - EXTRACRANIAL PROCEDURES W/O CC/MCC\", \"provider\": {\"id\": 10100, \"name\": \"THOMAS HOSPITAL\", \"city\": \"FAIRHOPE\", \"state\": \"AL\", \"zip\": 36532}, \"rr\": \"AL - Mobile\", \"charges\": {\"covered\": 10710.88, \"total_pay\": 4968.0, \"medicare_pay\": 3898.88}}\n",
      "{\"drg\": \"039 - EXTRACRANIAL PROCEDURES W/O CC/MCC\", \"provider\": {\"id\": 10103, \"name\": \"BAPTIST MEDICAL CENTER-PRINCETON\", \"city\": \"BIRMINGHAM\", \"state\": \"AL\", \"zip\": 35211}, \"rr\": \"AL - Birmingham\", \"charges\": {\"covered\": 51343.75, \"total_pay\": 5996.0, \"medicare_pay\": 4962.45}}\n"
     ]
    }
   ],
   "source": [
    "medicare_nest.show()\n"
   ]
  },
  {
   "cell_type": "code",
   "execution_count": 5,
   "id": "0534306a",
   "metadata": {},
   "outputs": [
    {
     "name": "stdout",
     "output_type": "stream",
     "text": [
      "<awsglue.dynamicframe.DynamicFrame object at 0x7f15c8467350>\n"
     ]
    }
   ],
   "source": [
    "# Write it out in Parquet\n",
    "glueContext.write_dynamic_frame.from_options(frame = medicare_nest, connection_type = \"s3\", connection_options = {\"path\": output_dir}, format = \"glueparquet\")\n"
   ]
  },
  {
   "cell_type": "code",
   "execution_count": null,
   "id": "0c5fb9f6",
   "metadata": {},
   "outputs": [],
   "source": []
  }
 ],
 "metadata": {
  "kernelspec": {
   "display_name": "Glue PySpark",
   "language": "python",
   "name": "glue_pyspark"
  },
  "language_info": {
   "codemirror_mode": {
    "name": "python",
    "version": 3
   },
   "file_extension": ".py",
   "mimetype": "text/x-python",
   "name": "Python_Glue_Session",
   "pygments_lexer": "python3"
  }
 },
 "nbformat": 4,
 "nbformat_minor": 5
}
